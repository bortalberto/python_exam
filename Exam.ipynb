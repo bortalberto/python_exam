{
 "cells": [
  {
   "cell_type": "markdown",
   "metadata": {},
   "source": [
    "## TIGER simple analysy scripts - \"Excercise for the Python In Lab course\""
   ]
  },
  {
   "cell_type": "markdown",
   "metadata": {},
   "source": [
    "My PHD is focused around the development and characterization of the readout electronic for an high energy physics experiment located in China (BESIII).\n",
    "The aim of this exam project is to test the possible use of the \"pandas\" library in the analysis of the data incoming from the chips.\n",
    "\"TIGER\" is the name of the chips mounted on the detector, while the \"GEMROCs\" are FPGA-based modules which collect the data from the chips and send them to the PC.\n",
    "A very basic (and ugly) Python script written by me manages the electronics configuration and the data acquisition."
   ]
  },
  {
   "cell_type": "markdown",
   "metadata": {},
   "source": [
    "The code, some sample data and this notebook can be downloaded from:\n",
    "https://github.com/bortalberto/python_exam\n",
    "This notebook is only a demonstrative summary of the code. The code explanation can be found as comments in the code itself."
   ]
  },
  {
   "cell_type": "code",
   "execution_count": 19,
   "metadata": {},
   "outputs": [],
   "source": [
    "from lib import elaboration #This class contains the calls to the other 2 classis"
   ]
  },
  {
   "cell_type": "markdown",
   "metadata": {},
   "source": [
    "Let's create 2 instances with the data in the data folder. Change the path with the path to your data location.\n",
    "There are 2 different modes (Trigger Less and Trigger Matched), in the data acquisition. They are very different, but for the objective of this exercise we only need to know that they have a different data format and that the TL mode is used mostly for tests.\n",
    "This part of the execution for the TL mode can take several minutes the first time it's run (the data are quite big and each hit needs to be related with another data to search in the data list). The pandas' dataframe is created at the end of the process and it will be automatically load since the next time.\n"
   ]
  },
  {
   "cell_type": "code",
   "execution_count": 20,
   "metadata": {},
   "outputs": [],
   "source": [
    "TL_run_10 = elaboration.Run(\"./data/RUN_10\",\"TL\")"
   ]
  },
  {
   "cell_type": "code",
   "execution_count": 21,
   "metadata": {},
   "outputs": [],
   "source": [
    "TM_run_11 = elaboration.Run(\"./data/RUN_11\",\"TM\")"
   ]
  },
  {
   "cell_type": "markdown",
   "metadata": {},
   "source": [
    "The program also loads the configuration off the overall system and store it in a nested dictionary. In order to do that I also created the necessary save function in my main code:"
   ]
  },
  {
   "cell_type": "code",
   "execution_count": 22,
   "metadata": {},
   "outputs": [],
   "source": [
    "#I left this block in \"Code\" mode only for legibility, this will of coarse do nothing here.\n",
    "def save_conf_registers(self,save_txt=False, save_pickle=True):\n",
    "    \"\"\"\n",
    "    Save configuration registers during acquisition start\n",
    "    \"\"\"\n",
    "    conf_dict_total = {}\n",
    "    for number, GEMROC in self.GEMROC_reading_dict.items():\n",
    "        conf_dict_total[number] = {}\n",
    "        conf_dict_total[number][\"DAQ\"] = GEMROC.GEM_COM.gemroc_DAQ_XX.DAQ_config_dict\n",
    "        for T in range(0, 8):\n",
    "            conf_dict_total[number][\"TIGER {}\".format(T)] = {}\n",
    "            conf_dict_total[number][\"TIGER {}\".format(T)][\"Global\"] = GEMROC.g_inst.Global_cfg_list[T]\n",
    "            for ch in range(0, 64):\n",
    "                conf_dict_total[number][\"TIGER {}\".format(T)][\"Ch {}\".format(ch)] = {}\n",
    "                conf_dict_total[number][\"TIGER {}\".format(T)][\"Ch {}\".format(ch)] = GEMROC.c_inst.Channel_cfg_list[T][ch]\n",
    "    if save_txt:\n",
    "        with open (self.conffile,'a+') as f:\n",
    "            f.write(json.dumps(conf_dict_total))\n",
    "    if save_pickle:\n",
    "        with open (self.conffile+\".pkl\",'a+') as f:\n",
    "            pickle.dump(conf_dict_total,f)"
   ]
  },
  {
   "cell_type": "code",
   "execution_count": 23,
   "metadata": {},
   "outputs": [
    {
     "name": "stdout",
     "output_type": "stream",
     "text": [
      "Efficiency with 1 TPs: 1.0\n",
      "Efficiency with 2 TPs: 1.0\n"
     ]
    }
   ],
   "source": [
    "TL_run_10.measure_efficiency(0) \n",
    "#This function measure the efficency using the data in the dataframe and the configuration loaded in the dictionary"
   ]
  },
  {
   "cell_type": "code",
   "execution_count": 24,
   "metadata": {},
   "outputs": [
    {
     "data": {
      "image/png": "[encoded data removed]",
      "text/plain": [
       "<Figure size 432x288 with 1 Axes>"
      ]
     },
     "metadata": {
      "needs_background": "light"
     },
     "output_type": "display_data"
    },
    {
     "data": {
      "image/png": "[encoded data removed]",
      "text/plain": [
       "<Figure size 432x288 with 1 Axes>"
      ]
     },
     "metadata": {
      "needs_background": "light"
     },
     "output_type": "display_data"
    }
   ],
   "source": [
    "TL_run_10.plot_sub_runs_rates()\n",
    "TM_run_11.plot_channel_activity()\n",
    "#2 sample plottic functions"
   ]
  },
  {
   "cell_type": "code",
   "execution_count": null,
   "metadata": {},
   "outputs": [],
   "source": []
  },
  {
   "cell_type": "code",
   "execution_count": null,
   "metadata": {},
   "outputs": [],
   "source": []
  }
 ],
 "metadata": {
  "kernelspec": {
   "display_name": "Python 3",
   "language": "python",
   "name": "python3"
  },
  "language_info": {
   "codemirror_mode": {
    "name": "ipython",
    "version": 3
   },
   "file_extension": ".py",
   "mimetype": "text/x-python",
   "name": "python",
   "nbconvert_exporter": "python",
   "pygments_lexer": "ipython3",
   "version": "3.7.3"
  }
 },
 "nbformat": 4,
 "nbformat_minor": 2
}
